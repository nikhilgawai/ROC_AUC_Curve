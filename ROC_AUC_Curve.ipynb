{
 "cells": [
  {
   "cell_type": "markdown",
   "id": "7ef8fc2e",
   "metadata": {},
   "source": [
    "# Importing Libraries"
   ]
  },
  {
   "cell_type": "code",
   "execution_count": 1,
   "id": "be165f4d",
   "metadata": {},
   "outputs": [],
   "source": [
    "import numpy as np\n",
    "import pandas as pd\n",
    "import tensorflow as tf\n",
    "from tensorflow.keras import layers\n",
    "from matplotlib import pyplot as plt\n",
    "\n",
    "# The following lines adjust the granularity of reporting.\n",
    "pd.options.display.max_rows = 10\n",
    "pd.options.display.float_format = \"{:.1f}\".format\n",
    "# tf.keras.backend.set_floatx('float32')"
   ]
  },
  {
   "cell_type": "markdown",
   "id": "c78bf90c",
   "metadata": {},
   "source": [
    "# Loading Dataset"
   ]
  },
  {
   "cell_type": "code",
   "execution_count": 2,
   "id": "c0b36576",
   "metadata": {},
   "outputs": [],
   "source": [
    "train_df = pd.read_csv(\"https://download.mlcc.google.com/mledu-datasets/california_housing_train.csv\")\n",
    "test_df = pd.read_csv(\"https://download.mlcc.google.com/mledu-datasets/california_housing_test.csv\")\n",
    "train_df = train_df.reindex(np.random.permutation(train_df.index))"
   ]
  },
  {
   "cell_type": "markdown",
   "id": "77869f5f",
   "metadata": {},
   "source": [
    "# Normalize Features "
   ]
  },
  {
   "cell_type": "code",
   "execution_count": 3,
   "id": "06bd337d",
   "metadata": {},
   "outputs": [
    {
     "data": {
      "text/html": [
       "<div>\n",
       "<style scoped>\n",
       "    .dataframe tbody tr th:only-of-type {\n",
       "        vertical-align: middle;\n",
       "    }\n",
       "\n",
       "    .dataframe tbody tr th {\n",
       "        vertical-align: top;\n",
       "    }\n",
       "\n",
       "    .dataframe thead th {\n",
       "        text-align: right;\n",
       "    }\n",
       "</style>\n",
       "<table border=\"1\" class=\"dataframe\">\n",
       "  <thead>\n",
       "    <tr style=\"text-align: right;\">\n",
       "      <th></th>\n",
       "      <th>longitude</th>\n",
       "      <th>latitude</th>\n",
       "      <th>housing_median_age</th>\n",
       "      <th>total_rooms</th>\n",
       "      <th>total_bedrooms</th>\n",
       "      <th>population</th>\n",
       "      <th>households</th>\n",
       "      <th>median_income</th>\n",
       "      <th>median_house_value</th>\n",
       "    </tr>\n",
       "  </thead>\n",
       "  <tbody>\n",
       "    <tr>\n",
       "      <th>16952</th>\n",
       "      <td>-2.3</td>\n",
       "      <td>2.4</td>\n",
       "      <td>1.5</td>\n",
       "      <td>-0.5</td>\n",
       "      <td>-0.5</td>\n",
       "      <td>-0.6</td>\n",
       "      <td>-0.4</td>\n",
       "      <td>-1.1</td>\n",
       "      <td>-1.1</td>\n",
       "    </tr>\n",
       "    <tr>\n",
       "      <th>580</th>\n",
       "      <td>1.3</td>\n",
       "      <td>-1.3</td>\n",
       "      <td>-0.1</td>\n",
       "      <td>-0.3</td>\n",
       "      <td>-0.5</td>\n",
       "      <td>-0.4</td>\n",
       "      <td>-0.5</td>\n",
       "      <td>0.1</td>\n",
       "      <td>-0.4</td>\n",
       "    </tr>\n",
       "    <tr>\n",
       "      <th>7967</th>\n",
       "      <td>0.6</td>\n",
       "      <td>-0.7</td>\n",
       "      <td>1.6</td>\n",
       "      <td>-0.9</td>\n",
       "      <td>-1.1</td>\n",
       "      <td>-1.0</td>\n",
       "      <td>-1.0</td>\n",
       "      <td>2.2</td>\n",
       "      <td>2.5</td>\n",
       "    </tr>\n",
       "    <tr>\n",
       "      <th>12116</th>\n",
       "      <td>-0.9</td>\n",
       "      <td>1.4</td>\n",
       "      <td>-0.8</td>\n",
       "      <td>-0.4</td>\n",
       "      <td>-0.2</td>\n",
       "      <td>-0.5</td>\n",
       "      <td>-0.5</td>\n",
       "      <td>-1.4</td>\n",
       "      <td>-1.2</td>\n",
       "    </tr>\n",
       "    <tr>\n",
       "      <th>15710</th>\n",
       "      <td>-1.4</td>\n",
       "      <td>0.9</td>\n",
       "      <td>0.6</td>\n",
       "      <td>-0.4</td>\n",
       "      <td>-0.1</td>\n",
       "      <td>-0.2</td>\n",
       "      <td>-0.1</td>\n",
       "      <td>-0.7</td>\n",
       "      <td>0.6</td>\n",
       "    </tr>\n",
       "  </tbody>\n",
       "</table>\n",
       "</div>"
      ],
      "text/plain": [
       "       longitude  latitude  housing_median_age  total_rooms  total_bedrooms  \\\n",
       "16952       -2.3       2.4                 1.5         -0.5            -0.5   \n",
       "580          1.3      -1.3                -0.1         -0.3            -0.5   \n",
       "7967         0.6      -0.7                 1.6         -0.9            -1.1   \n",
       "12116       -0.9       1.4                -0.8         -0.4            -0.2   \n",
       "15710       -1.4       0.9                 0.6         -0.4            -0.1   \n",
       "\n",
       "       population  households  median_income  median_house_value  \n",
       "16952        -0.6        -0.4           -1.1                -1.1  \n",
       "580          -0.4        -0.5            0.1                -0.4  \n",
       "7967         -1.0        -1.0            2.2                 2.5  \n",
       "12116        -0.5        -0.5           -1.4                -1.2  \n",
       "15710        -0.2        -0.1           -0.7                 0.6  "
      ]
     },
     "execution_count": 3,
     "metadata": {},
     "output_type": "execute_result"
    }
   ],
   "source": [
    "train_df_mean = train_df.mean()\n",
    "train_df_std = train_df.std()\n",
    "train_df_norm = (train_df - train_df_mean)/train_df_std\n",
    "\n",
    "train_df_norm.head()"
   ]
  },
  {
   "cell_type": "code",
   "execution_count": 5,
   "id": "6860a3ba",
   "metadata": {},
   "outputs": [],
   "source": [
    "test_df_mean = test_df.mean()\n",
    "test_df_std  = test_df.std()\n",
    "test_df_norm = (test_df - test_df_mean)/test_df_std"
   ]
  },
  {
   "cell_type": "code",
   "execution_count": 6,
   "id": "e7e678dc",
   "metadata": {},
   "outputs": [
    {
     "data": {
      "text/plain": [
       "16952   0.0\n",
       "580     0.0\n",
       "7967    1.0\n",
       "12116   0.0\n",
       "15710   1.0\n",
       "         ..\n",
       "7724    1.0\n",
       "13074   0.0\n",
       "8302    1.0\n",
       "15327   0.0\n",
       "6099    0.0\n",
       "Name: median_house_value_is_high, Length: 8000, dtype: float64"
      ]
     },
     "execution_count": 6,
     "metadata": {},
     "output_type": "execute_result"
    }
   ],
   "source": [
    "threshold = 265000\n",
    "train_df_norm[\"median_house_value_is_high\"] = (train_df[\"median_house_value\"] > threshold).astype(float)\n",
    "test_df_norm[\"median_house_value_is_high\"] = (test_df[\"median_house_value\"] > threshold).astype(float) \n",
    "train_df_norm[\"median_house_value_is_high\"].head(8000)"
   ]
  },
  {
   "cell_type": "code",
   "execution_count": 7,
   "id": "5d0db625",
   "metadata": {},
   "outputs": [
    {
     "data": {
      "text/plain": [
       "<tf.Tensor: shape=(17000, 2), dtype=float32, numpy=\n",
       "array([[-1.1155155 , -0.53105164],\n",
       "       [ 0.0953915 , -0.3182024 ],\n",
       "       [ 2.169802  , -0.9370248 ],\n",
       "       ...,\n",
       "       [ 1.4153566 ,  0.6116367 ],\n",
       "       [-0.51849943, -0.5260056 ],\n",
       "       [-0.75029385, -0.65995383]], dtype=float32)>"
      ]
     },
     "execution_count": 7,
     "metadata": {},
     "output_type": "execute_result"
    }
   ],
   "source": [
    "feature_columns = []\n",
    "\n",
    "#representing median_income.\n",
    "median_income = tf.feature_column.numeric_column(\"median_income\")\n",
    "feature_columns.append(median_income)\n",
    "\n",
    "#representing total_rooms.\n",
    "tr = tf.feature_column.numeric_column(\"total_rooms\")\n",
    "feature_columns.append(tr)\n",
    "\n",
    "# Convert the list of feature columns into a layer that will later be fed into\n",
    "# the model. \n",
    "feature_layer = layers.DenseFeatures(feature_columns)\n",
    "\n",
    "\n",
    "feature_layer(dict(train_df_norm))"
   ]
  },
  {
   "cell_type": "markdown",
   "id": "f86c98c1",
   "metadata": {},
   "source": [
    "# traning model"
   ]
  },
  {
   "cell_type": "code",
   "execution_count": 11,
   "id": "12d598ab",
   "metadata": {},
   "outputs": [],
   "source": [
    "def create_model(my_learning_rate, feature_layer, my_metrics):\n",
    "    \n",
    "    model = tf.keras.models.Sequential()\n",
    "    \n",
    "    model.add(feature_layer)\n",
    "\n",
    "    model.add(tf.keras.layers.Dense(units=1, input_shape=(1,),\n",
    "                                  activation=tf.sigmoid),)\n",
    "\n",
    "  \n",
    "    model.compile(optimizer=tf.keras.optimizers.RMSprop(lr=my_learning_rate),                                                   \n",
    "                loss=tf.keras.losses.BinaryCrossentropy(),\n",
    "                metrics=my_metrics)\n",
    "\n",
    "    return model        \n",
    "\n",
    "\n",
    "def train_model(model, dataset, epochs, label_name,\n",
    "                batch_size=None, shuffle=True):\n",
    "    \n",
    "  \n",
    "    features = {name:np.array(value) for name, value in dataset.items()}\n",
    "    label = np.array(features.pop(label_name)) \n",
    "    history = model.fit(x=features, y=label, batch_size=batch_size,\n",
    "                      epochs=epochs, shuffle=shuffle)\n",
    "  \n",
    "    epochs = history.epoch\n",
    "\n",
    "\n",
    "    hist = pd.DataFrame(history.history)\n",
    "\n",
    "    return epochs, hist   "
   ]
  },
  {
   "cell_type": "markdown",
   "id": "0e315127",
   "metadata": {},
   "source": [
    "#  plotting function"
   ]
  },
  {
   "cell_type": "code",
   "execution_count": 12,
   "id": "a657f5b3",
   "metadata": {},
   "outputs": [],
   "source": [
    "def plot_curve(epochs, hist, list_of_metrics):\n",
    "    plt.figure()\n",
    "    plt.xlabel(\"Epoch\")\n",
    "    plt.ylabel(\"Value\")\n",
    "\n",
    "    for m in list_of_metrics:\n",
    "        x = hist[m]\n",
    "        plt.plot(epochs[1:], x[1:], label=m)\n",
    "    plt.legend()"
   ]
  },
  {
   "cell_type": "code",
   "execution_count": 13,
   "id": "7ce025a9",
   "metadata": {},
   "outputs": [
    {
     "name": "stderr",
     "output_type": "stream",
     "text": [
      "/home/nikhil/anaconda3/envs/deepl/lib/python3.6/site-packages/keras/optimizer_v2/optimizer_v2.py:356: UserWarning: The `lr` argument is deprecated, use `learning_rate` instead.\n",
      "  \"The `lr` argument is deprecated, use `learning_rate` instead.\")\n"
     ]
    },
    {
     "name": "stdout",
     "output_type": "stream",
     "text": [
      "Epoch 1/20\n",
      "WARNING:tensorflow:Layers in a Sequential model should only have a single input tensor, but we receive a <class 'dict'> input: {'longitude': <tf.Tensor 'ExpandDims_3:0' shape=(100, 1) dtype=float32>, 'latitude': <tf.Tensor 'ExpandDims_2:0' shape=(100, 1) dtype=float32>, 'housing_median_age': <tf.Tensor 'ExpandDims_1:0' shape=(100, 1) dtype=float32>, 'total_rooms': <tf.Tensor 'ExpandDims_8:0' shape=(100, 1) dtype=float32>, 'total_bedrooms': <tf.Tensor 'ExpandDims_7:0' shape=(100, 1) dtype=float32>, 'population': <tf.Tensor 'ExpandDims_6:0' shape=(100, 1) dtype=float32>, 'households': <tf.Tensor 'ExpandDims:0' shape=(100, 1) dtype=float32>, 'median_income': <tf.Tensor 'ExpandDims_5:0' shape=(100, 1) dtype=float32>, 'median_house_value': <tf.Tensor 'ExpandDims_4:0' shape=(100, 1) dtype=float32>}\n",
      "Consider rewriting this model with the Functional API.\n",
      "WARNING:tensorflow:Layers in a Sequential model should only have a single input tensor, but we receive a <class 'dict'> input: {'longitude': <tf.Tensor 'ExpandDims_3:0' shape=(100, 1) dtype=float32>, 'latitude': <tf.Tensor 'ExpandDims_2:0' shape=(100, 1) dtype=float32>, 'housing_median_age': <tf.Tensor 'ExpandDims_1:0' shape=(100, 1) dtype=float32>, 'total_rooms': <tf.Tensor 'ExpandDims_8:0' shape=(100, 1) dtype=float32>, 'total_bedrooms': <tf.Tensor 'ExpandDims_7:0' shape=(100, 1) dtype=float32>, 'population': <tf.Tensor 'ExpandDims_6:0' shape=(100, 1) dtype=float32>, 'households': <tf.Tensor 'ExpandDims:0' shape=(100, 1) dtype=float32>, 'median_income': <tf.Tensor 'ExpandDims_5:0' shape=(100, 1) dtype=float32>, 'median_house_value': <tf.Tensor 'ExpandDims_4:0' shape=(100, 1) dtype=float32>}\n",
      "Consider rewriting this model with the Functional API.\n",
      "170/170 [==============================] - 2s 2ms/step - loss: 0.5306 - accuracy: 0.5893\n",
      "Epoch 2/20\n",
      "170/170 [==============================] - 0s 2ms/step - loss: 0.4942 - accuracy: 0.6454\n",
      "Epoch 3/20\n",
      "170/170 [==============================] - 0s 2ms/step - loss: 0.4663 - accuracy: 0.6861\n",
      "Epoch 4/20\n",
      "170/170 [==============================] - 0s 2ms/step - loss: 0.4445 - accuracy: 0.7187\n",
      "Epoch 5/20\n",
      "170/170 [==============================] - 0s 2ms/step - loss: 0.4271 - accuracy: 0.7455\n",
      "Epoch 6/20\n",
      "170/170 [==============================] - 0s 2ms/step - loss: 0.4148 - accuracy: 0.7661\n",
      "Epoch 7/20\n",
      "170/170 [==============================] - 0s 2ms/step - loss: 0.4064 - accuracy: 0.7828\n",
      "Epoch 8/20\n",
      "170/170 [==============================] - 0s 2ms/step - loss: 0.4013 - accuracy: 0.7936\n",
      "Epoch 9/20\n",
      "170/170 [==============================] - 0s 2ms/step - loss: 0.3987 - accuracy: 0.8015\n",
      "Epoch 10/20\n",
      "170/170 [==============================] - 0s 2ms/step - loss: 0.3975 - accuracy: 0.8059\n",
      "Epoch 11/20\n",
      "170/170 [==============================] - 0s 2ms/step - loss: 0.3970 - accuracy: 0.8074\n",
      "Epoch 12/20\n",
      "170/170 [==============================] - 0s 2ms/step - loss: 0.3968 - accuracy: 0.8075\n",
      "Epoch 13/20\n",
      "170/170 [==============================] - 0s 2ms/step - loss: 0.3967 - accuracy: 0.8088\n",
      "Epoch 14/20\n",
      "170/170 [==============================] - 0s 2ms/step - loss: 0.3967 - accuracy: 0.8083\n",
      "Epoch 15/20\n",
      "170/170 [==============================] - 0s 2ms/step - loss: 0.3966 - accuracy: 0.8092\n",
      "Epoch 16/20\n",
      "170/170 [==============================] - 0s 1ms/step - loss: 0.3966 - accuracy: 0.8087\n",
      "Epoch 17/20\n",
      "170/170 [==============================] - 0s 2ms/step - loss: 0.3966 - accuracy: 0.8094\n",
      "Epoch 18/20\n",
      "170/170 [==============================] - 0s 1ms/step - loss: 0.3966 - accuracy: 0.8089\n",
      "Epoch 19/20\n",
      "170/170 [==============================] - 0s 2ms/step - loss: 0.3966 - accuracy: 0.8090\n",
      "Epoch 20/20\n",
      "170/170 [==============================] - 0s 2ms/step - loss: 0.3966 - accuracy: 0.8090\n"
     ]
    },
    {
     "data": {
      "image/png": "[encoded data removed]",
      "text/plain": [
       "<Figure size 432x288 with 1 Axes>"
      ]
     },
     "metadata": {
      "needs_background": "light"
     },
     "output_type": "display_data"
    }
   ],
   "source": [
    "learning_rate = 0.001\n",
    "epochs = 20\n",
    "batch_size = 100\n",
    "label_name = \"median_house_value_is_high\"\n",
    "classification_threshold = 0.35\n",
    "\n",
    "\n",
    "METRICS = [\n",
    "           tf.keras.metrics.BinaryAccuracy(name='accuracy', \n",
    "                                           threshold=classification_threshold),\n",
    "          ]\n",
    "\n",
    "\n",
    "my_model = create_model(learning_rate, feature_layer, METRICS)\n",
    "\n",
    "\n",
    "epochs, hist = train_model(my_model, train_df_norm, epochs, \n",
    "                           label_name, batch_size)\n",
    "\n",
    "\n",
    "list_of_metrics_to_plot = ['accuracy'] \n",
    "\n",
    "plot_curve(epochs, hist, list_of_metrics_to_plot)"
   ]
  },
  {
   "cell_type": "markdown",
   "id": "f25e6572",
   "metadata": {},
   "source": [
    "# Evaluate the model"
   ]
  },
  {
   "cell_type": "code",
   "execution_count": 14,
   "id": "cf0f8d73",
   "metadata": {},
   "outputs": [
    {
     "name": "stdout",
     "output_type": "stream",
     "text": [
      "WARNING:tensorflow:Layers in a Sequential model should only have a single input tensor, but we receive a <class 'dict'> input: {'longitude': <tf.Tensor 'ExpandDims_3:0' shape=(100, 1) dtype=float32>, 'latitude': <tf.Tensor 'ExpandDims_2:0' shape=(100, 1) dtype=float32>, 'housing_median_age': <tf.Tensor 'ExpandDims_1:0' shape=(100, 1) dtype=float32>, 'total_rooms': <tf.Tensor 'ExpandDims_8:0' shape=(100, 1) dtype=float32>, 'total_bedrooms': <tf.Tensor 'ExpandDims_7:0' shape=(100, 1) dtype=float32>, 'population': <tf.Tensor 'ExpandDims_6:0' shape=(100, 1) dtype=float32>, 'households': <tf.Tensor 'ExpandDims:0' shape=(100, 1) dtype=float32>, 'median_income': <tf.Tensor 'ExpandDims_5:0' shape=(100, 1) dtype=float32>, 'median_house_value': <tf.Tensor 'ExpandDims_4:0' shape=(100, 1) dtype=float32>}\n",
      "Consider rewriting this model with the Functional API.\n",
      "30/30 [==============================] - 0s 1ms/step - loss: 0.4069 - accuracy: 0.8007\n"
     ]
    },
    {
     "data": {
      "text/plain": [
       "[0.4068853259086609, 0.8006666898727417]"
      ]
     },
     "execution_count": 14,
     "metadata": {},
     "output_type": "execute_result"
    }
   ],
   "source": [
    "features = {name:np.array(value) for name, value in test_df_norm.items()}\n",
    "label = np.array(features.pop(label_name))\n",
    "\n",
    "my_model.evaluate(x = features, y = label, batch_size=batch_size)"
   ]
  },
  {
   "cell_type": "markdown",
   "id": "863383a4",
   "metadata": {},
   "source": [
    "# Improving model\n",
    "## Add precision and recall as metrics"
   ]
  },
  {
   "cell_type": "code",
   "execution_count": 15,
   "id": "0dbcf063",
   "metadata": {},
   "outputs": [
    {
     "name": "stdout",
     "output_type": "stream",
     "text": [
      "Epoch 1/20\n",
      "WARNING:tensorflow:Layers in a Sequential model should only have a single input tensor, but we receive a <class 'dict'> input: {'longitude': <tf.Tensor 'ExpandDims_3:0' shape=(100, 1) dtype=float32>, 'latitude': <tf.Tensor 'ExpandDims_2:0' shape=(100, 1) dtype=float32>, 'housing_median_age': <tf.Tensor 'ExpandDims_1:0' shape=(100, 1) dtype=float32>, 'total_rooms': <tf.Tensor 'ExpandDims_8:0' shape=(100, 1) dtype=float32>, 'total_bedrooms': <tf.Tensor 'ExpandDims_7:0' shape=(100, 1) dtype=float32>, 'population': <tf.Tensor 'ExpandDims_6:0' shape=(100, 1) dtype=float32>, 'households': <tf.Tensor 'ExpandDims:0' shape=(100, 1) dtype=float32>, 'median_income': <tf.Tensor 'ExpandDims_5:0' shape=(100, 1) dtype=float32>, 'median_house_value': <tf.Tensor 'ExpandDims_4:0' shape=(100, 1) dtype=float32>}\n",
      "Consider rewriting this model with the Functional API.\n"
     ]
    },
    {
     "name": "stderr",
     "output_type": "stream",
     "text": [
      "/home/nikhil/anaconda3/envs/deepl/lib/python3.6/site-packages/keras/optimizer_v2/optimizer_v2.py:356: UserWarning: The `lr` argument is deprecated, use `learning_rate` instead.\n",
      "  \"The `lr` argument is deprecated, use `learning_rate` instead.\")\n"
     ]
    },
    {
     "name": "stdout",
     "output_type": "stream",
     "text": [
      "WARNING:tensorflow:Layers in a Sequential model should only have a single input tensor, but we receive a <class 'dict'> input: {'longitude': <tf.Tensor 'ExpandDims_3:0' shape=(100, 1) dtype=float32>, 'latitude': <tf.Tensor 'ExpandDims_2:0' shape=(100, 1) dtype=float32>, 'housing_median_age': <tf.Tensor 'ExpandDims_1:0' shape=(100, 1) dtype=float32>, 'total_rooms': <tf.Tensor 'ExpandDims_8:0' shape=(100, 1) dtype=float32>, 'total_bedrooms': <tf.Tensor 'ExpandDims_7:0' shape=(100, 1) dtype=float32>, 'population': <tf.Tensor 'ExpandDims_6:0' shape=(100, 1) dtype=float32>, 'households': <tf.Tensor 'ExpandDims:0' shape=(100, 1) dtype=float32>, 'median_income': <tf.Tensor 'ExpandDims_5:0' shape=(100, 1) dtype=float32>, 'median_house_value': <tf.Tensor 'ExpandDims_4:0' shape=(100, 1) dtype=float32>}\n",
      "Consider rewriting this model with the Functional API.\n",
      "170/170 [==============================] - 1s 2ms/step - loss: 0.8053 - accuracy: 0.2799 - precision: 0.2224 - recall: 0.7539\n",
      "Epoch 2/20\n",
      "170/170 [==============================] - 0s 2ms/step - loss: 0.6970 - accuracy: 0.3062 - precision: 0.2369 - recall: 0.8001\n",
      "Epoch 3/20\n",
      "170/170 [==============================] - 0s 2ms/step - loss: 0.6084 - accuracy: 0.3746 - precision: 0.2595 - recall: 0.8112\n",
      "Epoch 4/20\n",
      "170/170 [==============================] - 0s 2ms/step - loss: 0.5391 - accuracy: 0.6038 - precision: 0.3613 - recall: 0.7629\n",
      "Epoch 5/20\n",
      "170/170 [==============================] - 0s 2ms/step - loss: 0.4886 - accuracy: 0.7558 - precision: 0.5083 - recall: 0.6847\n",
      "Epoch 6/20\n",
      "170/170 [==============================] - 0s 2ms/step - loss: 0.4538 - accuracy: 0.7961 - precision: 0.5832 - recall: 0.6445\n",
      "Epoch 7/20\n",
      "170/170 [==============================] - 0s 2ms/step - loss: 0.4319 - accuracy: 0.8070 - precision: 0.6115 - recall: 0.6235\n",
      "Epoch 8/20\n",
      "170/170 [==============================] - 0s 2ms/step - loss: 0.4182 - accuracy: 0.8091 - precision: 0.6191 - recall: 0.6124\n",
      "Epoch 9/20\n",
      "170/170 [==============================] - 0s 2ms/step - loss: 0.4095 - accuracy: 0.8109 - precision: 0.6248 - recall: 0.6082\n",
      "Epoch 10/20\n",
      "170/170 [==============================] - 0s 2ms/step - loss: 0.4040 - accuracy: 0.8107 - precision: 0.6241 - recall: 0.6094\n",
      "Epoch 11/20\n",
      "170/170 [==============================] - 0s 2ms/step - loss: 0.4008 - accuracy: 0.8087 - precision: 0.6181 - recall: 0.6129\n",
      "Epoch 12/20\n",
      "170/170 [==============================] - 0s 2ms/step - loss: 0.3989 - accuracy: 0.8090 - precision: 0.6187 - recall: 0.6136\n",
      "Epoch 13/20\n",
      "170/170 [==============================] - 0s 2ms/step - loss: 0.3978 - accuracy: 0.8093 - precision: 0.6196 - recall: 0.6131\n",
      "Epoch 14/20\n",
      "170/170 [==============================] - 0s 2ms/step - loss: 0.3972 - accuracy: 0.8088 - precision: 0.6180 - recall: 0.6146\n",
      "Epoch 15/20\n",
      "170/170 [==============================] - 0s 2ms/step - loss: 0.3969 - accuracy: 0.8097 - precision: 0.6206 - recall: 0.6129\n",
      "Epoch 16/20\n",
      "170/170 [==============================] - 0s 2ms/step - loss: 0.3968 - accuracy: 0.8091 - precision: 0.6191 - recall: 0.6131\n",
      "Epoch 17/20\n",
      "170/170 [==============================] - 0s 2ms/step - loss: 0.3967 - accuracy: 0.8079 - precision: 0.6155 - recall: 0.6162\n",
      "Epoch 18/20\n",
      "170/170 [==============================] - 0s 2ms/step - loss: 0.3967 - accuracy: 0.8086 - precision: 0.6174 - recall: 0.6153\n",
      "Epoch 19/20\n",
      "170/170 [==============================] - 0s 2ms/step - loss: 0.3966 - accuracy: 0.8094 - precision: 0.6194 - recall: 0.6143\n",
      "Epoch 20/20\n",
      "170/170 [==============================] - 0s 2ms/step - loss: 0.3966 - accuracy: 0.8086 - precision: 0.6178 - recall: 0.6138\n"
     ]
    },
    {
     "data": {
      "image/png": "[encoded data removed]",
      "text/plain": [
       "<Figure size 432x288 with 1 Axes>"
      ]
     },
     "metadata": {
      "needs_background": "light"
     },
     "output_type": "display_data"
    }
   ],
   "source": [
    "learning_rate = 0.001\n",
    "epochs = 20\n",
    "batch_size = 100\n",
    "classification_threshold = 0.35\n",
    "label_name = \"median_house_value_is_high\"\n",
    "\n",
    "\n",
    "METRICS = [\n",
    "      tf.keras.metrics.BinaryAccuracy(name='accuracy', \n",
    "                                      threshold=classification_threshold),\n",
    "      tf.keras.metrics.Precision(thresholds=classification_threshold,\n",
    "                                 name='precision' \n",
    "                                 ),\n",
    "      tf.keras.metrics.Recall(thresholds=classification_threshold,\n",
    "                              name=\"recall\"),\n",
    "]\n",
    "\n",
    "\n",
    "my_model = create_model(learning_rate, feature_layer, METRICS)\n",
    "\n",
    "\n",
    "epochs, hist = train_model(my_model, train_df_norm, epochs, \n",
    "                           label_name, batch_size)\n",
    "\n",
    "\n",
    "list_of_metrics_to_plot = ['accuracy', \"precision\", \"recall\"] \n",
    "plot_curve(epochs, hist, list_of_metrics_to_plot)"
   ]
  },
  {
   "cell_type": "markdown",
   "id": "2db785da",
   "metadata": {},
   "source": [
    "# adding classification threshold"
   ]
  },
  {
   "cell_type": "code",
   "execution_count": 16,
   "id": "8c1ad7a4",
   "metadata": {},
   "outputs": [
    {
     "name": "stdout",
     "output_type": "stream",
     "text": [
      "Epoch 1/20\n",
      "WARNING:tensorflow:Layers in a Sequential model should only have a single input tensor, but we receive a <class 'dict'> input: {'longitude': <tf.Tensor 'ExpandDims_3:0' shape=(100, 1) dtype=float32>, 'latitude': <tf.Tensor 'ExpandDims_2:0' shape=(100, 1) dtype=float32>, 'housing_median_age': <tf.Tensor 'ExpandDims_1:0' shape=(100, 1) dtype=float32>, 'total_rooms': <tf.Tensor 'ExpandDims_8:0' shape=(100, 1) dtype=float32>, 'total_bedrooms': <tf.Tensor 'ExpandDims_7:0' shape=(100, 1) dtype=float32>, 'population': <tf.Tensor 'ExpandDims_6:0' shape=(100, 1) dtype=float32>, 'households': <tf.Tensor 'ExpandDims:0' shape=(100, 1) dtype=float32>, 'median_income': <tf.Tensor 'ExpandDims_5:0' shape=(100, 1) dtype=float32>, 'median_house_value': <tf.Tensor 'ExpandDims_4:0' shape=(100, 1) dtype=float32>}\n",
      "Consider rewriting this model with the Functional API.\n"
     ]
    },
    {
     "name": "stderr",
     "output_type": "stream",
     "text": [
      "/home/nikhil/anaconda3/envs/deepl/lib/python3.6/site-packages/keras/optimizer_v2/optimizer_v2.py:356: UserWarning: The `lr` argument is deprecated, use `learning_rate` instead.\n",
      "  \"The `lr` argument is deprecated, use `learning_rate` instead.\")\n"
     ]
    },
    {
     "name": "stdout",
     "output_type": "stream",
     "text": [
      "WARNING:tensorflow:Layers in a Sequential model should only have a single input tensor, but we receive a <class 'dict'> input: {'longitude': <tf.Tensor 'ExpandDims_3:0' shape=(100, 1) dtype=float32>, 'latitude': <tf.Tensor 'ExpandDims_2:0' shape=(100, 1) dtype=float32>, 'housing_median_age': <tf.Tensor 'ExpandDims_1:0' shape=(100, 1) dtype=float32>, 'total_rooms': <tf.Tensor 'ExpandDims_8:0' shape=(100, 1) dtype=float32>, 'total_bedrooms': <tf.Tensor 'ExpandDims_7:0' shape=(100, 1) dtype=float32>, 'population': <tf.Tensor 'ExpandDims_6:0' shape=(100, 1) dtype=float32>, 'households': <tf.Tensor 'ExpandDims:0' shape=(100, 1) dtype=float32>, 'median_income': <tf.Tensor 'ExpandDims_5:0' shape=(100, 1) dtype=float32>, 'median_house_value': <tf.Tensor 'ExpandDims_4:0' shape=(100, 1) dtype=float32>}\n",
      "Consider rewriting this model with the Functional API.\n",
      "170/170 [==============================] - 1s 2ms/step - loss: 0.5937 - accuracy: 0.7330 - precision: 0.4754 - recall: 0.6652\n",
      "Epoch 2/20\n",
      "170/170 [==============================] - 0s 2ms/step - loss: 0.5291 - accuracy: 0.7856 - precision: 0.5647 - recall: 0.6193\n",
      "Epoch 3/20\n",
      "170/170 [==============================] - 0s 2ms/step - loss: 0.4830 - accuracy: 0.8081 - precision: 0.6229 - recall: 0.5877\n",
      "Epoch 4/20\n",
      "170/170 [==============================] - 0s 2ms/step - loss: 0.4513 - accuracy: 0.8185 - precision: 0.6580 - recall: 0.5693\n",
      "Epoch 5/20\n",
      "170/170 [==============================] - 0s 2ms/step - loss: 0.4304 - accuracy: 0.8258 - precision: 0.6881 - recall: 0.5533\n",
      "Epoch 6/20\n",
      "170/170 [==============================] - 0s 2ms/step - loss: 0.4163 - accuracy: 0.8301 - precision: 0.7146 - recall: 0.5324\n",
      "Epoch 7/20\n",
      "170/170 [==============================] - 0s 2ms/step - loss: 0.4075 - accuracy: 0.8326 - precision: 0.7403 - recall: 0.5081\n",
      "Epoch 8/20\n",
      "170/170 [==============================] - 0s 2ms/step - loss: 0.4021 - accuracy: 0.8337 - precision: 0.7574 - recall: 0.4919\n",
      "Epoch 9/20\n",
      "170/170 [==============================] - 0s 2ms/step - loss: 0.3992 - accuracy: 0.8350 - precision: 0.7723 - recall: 0.4815\n",
      "Epoch 10/20\n",
      "170/170 [==============================] - 0s 2ms/step - loss: 0.3978 - accuracy: 0.8358 - precision: 0.7834 - recall: 0.4735\n",
      "Epoch 11/20\n",
      "170/170 [==============================] - 0s 2ms/step - loss: 0.3972 - accuracy: 0.8361 - precision: 0.7884 - recall: 0.4702\n",
      "Epoch 12/20\n",
      "170/170 [==============================] - 0s 2ms/step - loss: 0.3969 - accuracy: 0.8364 - precision: 0.7906 - recall: 0.4695\n",
      "Epoch 13/20\n",
      "170/170 [==============================] - 0s 2ms/step - loss: 0.3967 - accuracy: 0.8362 - precision: 0.7916 - recall: 0.4676\n",
      "Epoch 14/20\n",
      "170/170 [==============================] - 0s 2ms/step - loss: 0.3967 - accuracy: 0.8360 - precision: 0.7862 - recall: 0.4719\n",
      "Epoch 15/20\n",
      "170/170 [==============================] - 0s 2ms/step - loss: 0.3967 - accuracy: 0.8359 - precision: 0.7838 - recall: 0.4737\n",
      "Epoch 16/20\n",
      "170/170 [==============================] - 0s 2ms/step - loss: 0.3966 - accuracy: 0.8362 - precision: 0.7853 - recall: 0.4737\n",
      "Epoch 17/20\n",
      "170/170 [==============================] - 0s 2ms/step - loss: 0.3966 - accuracy: 0.8361 - precision: 0.7844 - recall: 0.4745\n",
      "Epoch 18/20\n",
      "170/170 [==============================] - 0s 2ms/step - loss: 0.3966 - accuracy: 0.8361 - precision: 0.7861 - recall: 0.4723\n",
      "Epoch 19/20\n",
      "170/170 [==============================] - 0s 2ms/step - loss: 0.3966 - accuracy: 0.8356 - precision: 0.7828 - recall: 0.4735\n",
      "Epoch 20/20\n",
      "170/170 [==============================] - 0s 2ms/step - loss: 0.3966 - accuracy: 0.8361 - precision: 0.7846 - recall: 0.4742\n"
     ]
    },
    {
     "data": {
      "image/png": "[encoded data removed]",
      "text/plain": [
       "<Figure size 432x288 with 1 Axes>"
      ]
     },
     "metadata": {
      "needs_background": "light"
     },
     "output_type": "display_data"
    }
   ],
   "source": [
    "learning_rate = 0.001\n",
    "epochs = 20\n",
    "batch_size = 100\n",
    "classification_threshold = 0.52\n",
    "label_name = \"median_house_value_is_high\"\n",
    "\n",
    "\n",
    "METRICS = [\n",
    "      tf.keras.metrics.BinaryAccuracy(name='accuracy', \n",
    "                                      threshold=classification_threshold),\n",
    "      tf.keras.metrics.Precision(thresholds=classification_threshold,\n",
    "                                 name='precision' \n",
    "                                 ),\n",
    "      tf.keras.metrics.Recall(thresholds=classification_threshold,\n",
    "                              name=\"recall\"),\n",
    "]\n",
    "\n",
    "\n",
    "my_model = create_model(learning_rate, feature_layer, METRICS)\n",
    "\n",
    "\n",
    "epochs, hist = train_model(my_model, train_df_norm, epochs, \n",
    "                           label_name, batch_size)\n",
    "\n",
    "# Plot metrics vs. epochs\n",
    "list_of_metrics_to_plot = ['accuracy', \"precision\", \"recall\"] \n",
    "plot_curve(epochs, hist, list_of_metrics_to_plot)"
   ]
  },
  {
   "cell_type": "markdown",
   "id": "b9793073",
   "metadata": {},
   "source": [
    "#  Summarizing model"
   ]
  },
  {
   "cell_type": "code",
   "execution_count": 17,
   "id": "69ff2cf3",
   "metadata": {},
   "outputs": [
    {
     "name": "stdout",
     "output_type": "stream",
     "text": [
      "Epoch 1/20\n",
      "WARNING:tensorflow:Layers in a Sequential model should only have a single input tensor, but we receive a <class 'dict'> input: {'longitude': <tf.Tensor 'ExpandDims_3:0' shape=(100, 1) dtype=float32>, 'latitude': <tf.Tensor 'ExpandDims_2:0' shape=(100, 1) dtype=float32>, 'housing_median_age': <tf.Tensor 'ExpandDims_1:0' shape=(100, 1) dtype=float32>, 'total_rooms': <tf.Tensor 'ExpandDims_8:0' shape=(100, 1) dtype=float32>, 'total_bedrooms': <tf.Tensor 'ExpandDims_7:0' shape=(100, 1) dtype=float32>, 'population': <tf.Tensor 'ExpandDims_6:0' shape=(100, 1) dtype=float32>, 'households': <tf.Tensor 'ExpandDims:0' shape=(100, 1) dtype=float32>, 'median_income': <tf.Tensor 'ExpandDims_5:0' shape=(100, 1) dtype=float32>, 'median_house_value': <tf.Tensor 'ExpandDims_4:0' shape=(100, 1) dtype=float32>}\n",
      "Consider rewriting this model with the Functional API.\n"
     ]
    },
    {
     "name": "stderr",
     "output_type": "stream",
     "text": [
      "/home/nikhil/anaconda3/envs/deepl/lib/python3.6/site-packages/keras/optimizer_v2/optimizer_v2.py:356: UserWarning: The `lr` argument is deprecated, use `learning_rate` instead.\n",
      "  \"The `lr` argument is deprecated, use `learning_rate` instead.\")\n"
     ]
    },
    {
     "name": "stdout",
     "output_type": "stream",
     "text": [
      "WARNING:tensorflow:Layers in a Sequential model should only have a single input tensor, but we receive a <class 'dict'> input: {'longitude': <tf.Tensor 'ExpandDims_3:0' shape=(100, 1) dtype=float32>, 'latitude': <tf.Tensor 'ExpandDims_2:0' shape=(100, 1) dtype=float32>, 'housing_median_age': <tf.Tensor 'ExpandDims_1:0' shape=(100, 1) dtype=float32>, 'total_rooms': <tf.Tensor 'ExpandDims_8:0' shape=(100, 1) dtype=float32>, 'total_bedrooms': <tf.Tensor 'ExpandDims_7:0' shape=(100, 1) dtype=float32>, 'population': <tf.Tensor 'ExpandDims_6:0' shape=(100, 1) dtype=float32>, 'households': <tf.Tensor 'ExpandDims:0' shape=(100, 1) dtype=float32>, 'median_income': <tf.Tensor 'ExpandDims_5:0' shape=(100, 1) dtype=float32>, 'median_house_value': <tf.Tensor 'ExpandDims_4:0' shape=(100, 1) dtype=float32>}\n",
      "Consider rewriting this model with the Functional API.\n",
      "170/170 [==============================] - 1s 2ms/step - loss: 0.8484 - auc: 0.2451\n",
      "Epoch 2/20\n",
      "170/170 [==============================] - 0s 2ms/step - loss: 0.7347 - auc: 0.2743\n",
      "Epoch 3/20\n",
      "170/170 [==============================] - 0s 2ms/step - loss: 0.6411 - auc: 0.4009\n",
      "Epoch 4/20\n",
      "170/170 [==============================] - 0s 2ms/step - loss: 0.5680 - auc: 0.6970\n",
      "Epoch 5/20\n",
      "170/170 [==============================] - 0s 2ms/step - loss: 0.5138 - auc: 0.8251\n",
      "Epoch 6/20\n",
      "170/170 [==============================] - 0s 2ms/step - loss: 0.4765 - auc: 0.8342\n",
      "Epoch 7/20\n",
      "170/170 [==============================] - 0s 2ms/step - loss: 0.4514 - auc: 0.8336\n",
      "Epoch 8/20\n",
      "170/170 [==============================] - 0s 2ms/step - loss: 0.4336 - auc: 0.8346\n",
      "Epoch 9/20\n",
      "170/170 [==============================] - 0s 2ms/step - loss: 0.4208 - auc: 0.8356\n",
      "Epoch 10/20\n",
      "170/170 [==============================] - 0s 2ms/step - loss: 0.4117 - auc: 0.8360\n",
      "Epoch 11/20\n",
      "170/170 [==============================] - 0s 2ms/step - loss: 0.4056 - auc: 0.8362\n",
      "Epoch 12/20\n",
      "170/170 [==============================] - 0s 2ms/step - loss: 0.4016 - auc: 0.8365\n",
      "Epoch 13/20\n",
      "170/170 [==============================] - 0s 2ms/step - loss: 0.3993 - auc: 0.8367\n",
      "Epoch 14/20\n",
      "170/170 [==============================] - 0s 2ms/step - loss: 0.3980 - auc: 0.8368\n",
      "Epoch 15/20\n",
      "170/170 [==============================] - 0s 2ms/step - loss: 0.3973 - auc: 0.8368\n",
      "Epoch 16/20\n",
      "170/170 [==============================] - 0s 2ms/step - loss: 0.3970 - auc: 0.8369\n",
      "Epoch 17/20\n",
      "170/170 [==============================] - 0s 2ms/step - loss: 0.3968 - auc: 0.8368\n",
      "Epoch 18/20\n",
      "170/170 [==============================] - 0s 2ms/step - loss: 0.3967 - auc: 0.8368\n",
      "Epoch 19/20\n",
      "170/170 [==============================] - 0s 2ms/step - loss: 0.3967 - auc: 0.8369\n",
      "Epoch 20/20\n",
      "170/170 [==============================] - 0s 2ms/step - loss: 0.3966 - auc: 0.8369\n"
     ]
    },
    {
     "data": {
      "image/png": "[encoded data removed]",
      "text/plain": [
       "<Figure size 432x288 with 1 Axes>"
      ]
     },
     "metadata": {
      "needs_background": "light"
     },
     "output_type": "display_data"
    }
   ],
   "source": [
    "learning_rate = 0.001\n",
    "epochs = 20\n",
    "batch_size = 100\n",
    "label_name = \"median_house_value_is_high\"\n",
    "\n",
    "# measure AUC:\n",
    "METRICS = [\n",
    "      tf.keras.metrics.AUC(num_thresholds=100, name='auc'),\n",
    "]\n",
    "\n",
    "my_model = create_model(learning_rate, feature_layer, METRICS)\n",
    "\n",
    "\n",
    "epochs, hist = train_model(my_model, train_df_norm, epochs, \n",
    "                           label_name, batch_size)\n",
    "\n",
    "\n",
    "list_of_metrics_to_plot = ['auc'] \n",
    "plot_curve(epochs, hist, list_of_metrics_to_plot)"
   ]
  },
  {
   "cell_type": "code",
   "execution_count": null,
   "id": "52018023",
   "metadata": {},
   "outputs": [],
   "source": []
  }
 ],
 "metadata": {
  "kernelspec": {
   "display_name": "Python 3",
   "language": "python",
   "name": "python3"
  },
  "language_info": {
   "codemirror_mode": {
    "name": "ipython",
    "version": 3
   },
   "file_extension": ".py",
   "mimetype": "text/x-python",
   "name": "python",
   "nbconvert_exporter": "python",
   "pygments_lexer": "ipython3",
   "version": "3.6.13"
  }
 },
 "nbformat": 4,
 "nbformat_minor": 5
}
